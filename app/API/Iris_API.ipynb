{
  "nbformat": 4,
  "nbformat_minor": 0,
  "metadata": {
    "colab": {
      "provenance": []
    },
    "kernelspec": {
      "name": "python3",
      "display_name": "Python 3"
    },
    "language_info": {
      "name": "python"
    }
  },
  "cells": [
    {
      "cell_type": "code",
      "source": [
        "!pip install fastapi uvicorn nest-asyncio pyngrok kagglehub\n",
        "\n",
        "import pandas as pd\n",
        "from sklearn.neighbors import KNeighborsClassifier\n",
        "from sklearn.model_selection import train_test_split\n",
        "import joblib\n",
        "import kagglehub\n",
        "import os\n",
        "from sklearn.metrics import accuracy_score, classification_report\n",
        "\n",
        "from fastapi import FastAPI\n",
        "from pydantic import BaseModel, Field, confloat\n",
        "\n",
        "from pyngrok import ngrok\n",
        "ngrok.set_auth_token(\"2zS1ix1LExFP3PbwbOb4zUtovvE_7TmYVGJoGxEp5xCUsD9rA\")\n",
        "\n",
        "import nest_asyncio\n",
        "import uvicorn\n",
        "\n",
        "\n",
        "# tải dữ liệu\n",
        "path = kagglehub.dataset_download(\"uciml/iris\")\n",
        "csv_path = os.path.join(path, \"Iris.csv\")\n",
        "df = pd.read_csv(csv_path)\n",
        "\n",
        "# chuẩn bị dữ liệu\n",
        "X = df.drop(columns=[\"Id\", \"Species\"])\n",
        "y = df[\"Species\"]\n",
        "\n",
        "# train/test split\n",
        "X_train, X_test, y_train, y_test = train_test_split(\n",
        "    X, y, test_size=0.2, random_state=42, stratify=y\n",
        ")\n",
        "\n",
        "# train KNN\n",
        "knn = KNeighborsClassifier(n_neighbors=3)\n",
        "knn.fit(X_train, y_train)\n",
        "#y_pred_knn = knn.predict(X_test)\n",
        "#print(f\"Độ chính xác (KNN): {accuracy_score(y_test, y_pred_knn):.2f}\")\n",
        "#print(\"\\nClassification Report (KNN):\")\n",
        "#print(classification_report(y_test, y_pred_knn))\n",
        "\n",
        "# lưu mô hình\n",
        "joblib.dump(knn, \"knn_model.pkl\")\n",
        "#print(\"Model saved!\")\n",
        "\n",
        "model = joblib.load(\"knn_model.pkl\")\n",
        "classes = model.classes_  # tên các lớp\n",
        "\n",
        "class IrisInput(BaseModel):\n",
        "    SepalLengthCm: confloat(ge=4.3, le=7.9)\n",
        "    SepalWidthCm: confloat(ge=2.0, le=4.4)\n",
        "    PetalLengthCm: confloat(ge=1.0, le=6.9)\n",
        "    PetalWidthCm: confloat(ge=0.1, le=2.5)\n",
        "\n",
        "app = FastAPI()\n",
        "\n",
        "@app.get(\"/\")\n",
        "def home():\n",
        "    return {\"message\": \"Welcome to Iris Prediction API!\", \"docs\": \"/docs\"}\n",
        "\n",
        "@app.post(\"/predict\")\n",
        "def predict(data: IrisInput):\n",
        "    df = pd.DataFrame([data.dict()])\n",
        "    pred = model.predict(df)[0]\n",
        "    probas = model.predict_proba(df)[0]  # lấy xác suất\n",
        "    # ghép lớp + xác suất\n",
        "    proba_dict = dict(zip(classes, [round(float(p), 3) for p in probas]))\n",
        "    return {\n",
        "        \"prediction\": pred,\n",
        "        \"probabilities\": proba_dict\n",
        "    }\n",
        "\n",
        "# Cho phép chạy event loop lồng nhau (bắt buộc với Colab)\n",
        "nest_asyncio.apply()\n",
        "\n",
        "# Kết nối ngrok tới cổng 8000\n",
        "os.system(\"killall ngrok || true\")\n",
        "public_url = ngrok.connect(8000).public_url\n",
        "\n",
        "# Nối /docs để mở Swagger UI\n",
        "swagger_url = f\"{public_url}/docs\"\n",
        "\n",
        "print(f\"Server đang chạy tại: {public_url}\")\n",
        "print(f\"Truy cập Swagger UI: {swagger_url}\")\n",
        "\n",
        "# Chạy FastAPI app\n",
        "uvicorn.run(app, host=\"0.0.0.0\", port=8000)"
      ],
      "metadata": {
        "colab": {
          "base_uri": "https://localhost:8080/"
        },
        "id": "VP97_xQ27sUp",
        "outputId": "fcbd1312-ed43-4b93-d8ba-15ef28e9f2c7"
      },
      "execution_count": 7,
      "outputs": [
        {
          "output_type": "stream",
          "name": "stdout",
          "text": [
            "Requirement already satisfied: fastapi in /usr/local/lib/python3.11/dist-packages (0.115.14)\n",
            "Requirement already satisfied: uvicorn in /usr/local/lib/python3.11/dist-packages (0.35.0)\n",
            "Requirement already satisfied: nest-asyncio in /usr/local/lib/python3.11/dist-packages (1.6.0)\n",
            "Requirement already satisfied: pyngrok in /usr/local/lib/python3.11/dist-packages (7.2.11)\n",
            "Requirement already satisfied: kagglehub in /usr/local/lib/python3.11/dist-packages (0.3.12)\n",
            "Requirement already satisfied: starlette<0.47.0,>=0.40.0 in /usr/local/lib/python3.11/dist-packages (from fastapi) (0.46.2)\n",
            "Requirement already satisfied: pydantic!=1.8,!=1.8.1,!=2.0.0,!=2.0.1,!=2.1.0,<3.0.0,>=1.7.4 in /usr/local/lib/python3.11/dist-packages (from fastapi) (2.11.7)\n",
            "Requirement already satisfied: typing-extensions>=4.8.0 in /usr/local/lib/python3.11/dist-packages (from fastapi) (4.14.0)\n",
            "Requirement already satisfied: click>=7.0 in /usr/local/lib/python3.11/dist-packages (from uvicorn) (8.2.1)\n",
            "Requirement already satisfied: h11>=0.8 in /usr/local/lib/python3.11/dist-packages (from uvicorn) (0.16.0)\n",
            "Requirement already satisfied: PyYAML>=5.1 in /usr/local/lib/python3.11/dist-packages (from pyngrok) (6.0.2)\n",
            "Requirement already satisfied: packaging in /usr/local/lib/python3.11/dist-packages (from kagglehub) (24.2)\n",
            "Requirement already satisfied: requests in /usr/local/lib/python3.11/dist-packages (from kagglehub) (2.32.3)\n",
            "Requirement already satisfied: tqdm in /usr/local/lib/python3.11/dist-packages (from kagglehub) (4.67.1)\n",
            "Requirement already satisfied: annotated-types>=0.6.0 in /usr/local/lib/python3.11/dist-packages (from pydantic!=1.8,!=1.8.1,!=2.0.0,!=2.0.1,!=2.1.0,<3.0.0,>=1.7.4->fastapi) (0.7.0)\n",
            "Requirement already satisfied: pydantic-core==2.33.2 in /usr/local/lib/python3.11/dist-packages (from pydantic!=1.8,!=1.8.1,!=2.0.0,!=2.0.1,!=2.1.0,<3.0.0,>=1.7.4->fastapi) (2.33.2)\n",
            "Requirement already satisfied: typing-inspection>=0.4.0 in /usr/local/lib/python3.11/dist-packages (from pydantic!=1.8,!=1.8.1,!=2.0.0,!=2.0.1,!=2.1.0,<3.0.0,>=1.7.4->fastapi) (0.4.1)\n",
            "Requirement already satisfied: anyio<5,>=3.6.2 in /usr/local/lib/python3.11/dist-packages (from starlette<0.47.0,>=0.40.0->fastapi) (4.9.0)\n",
            "Requirement already satisfied: charset-normalizer<4,>=2 in /usr/local/lib/python3.11/dist-packages (from requests->kagglehub) (3.4.2)\n",
            "Requirement already satisfied: idna<4,>=2.5 in /usr/local/lib/python3.11/dist-packages (from requests->kagglehub) (3.10)\n",
            "Requirement already satisfied: urllib3<3,>=1.21.1 in /usr/local/lib/python3.11/dist-packages (from requests->kagglehub) (2.4.0)\n",
            "Requirement already satisfied: certifi>=2017.4.17 in /usr/local/lib/python3.11/dist-packages (from requests->kagglehub) (2025.6.15)\n",
            "Requirement already satisfied: sniffio>=1.1 in /usr/local/lib/python3.11/dist-packages (from anyio<5,>=3.6.2->starlette<0.47.0,>=0.40.0->fastapi) (1.3.1)\n",
            "Server đang chạy tại: https://4535-34-90-115-158.ngrok-free.app\n",
            "Truy cập Swagger UI: https://4535-34-90-115-158.ngrok-free.app/docs\n"
          ]
        },
        {
          "output_type": "stream",
          "name": "stderr",
          "text": [
            "INFO:     Started server process [1074]\n",
            "INFO:     Waiting for application startup.\n",
            "INFO:     Application startup complete.\n",
            "INFO:     Uvicorn running on http://0.0.0.0:8000 (Press CTRL+C to quit)\n"
          ]
        },
        {
          "output_type": "stream",
          "name": "stdout",
          "text": [
            "INFO:     2402:800:63b6:af2e:d914:7a6c:6655:20dd:0 - \"GET /docs HTTP/1.1\" 200 OK\n",
            "INFO:     2402:800:63b6:af2e:d914:7a6c:6655:20dd:0 - \"GET /openapi.json HTTP/1.1\" 200 OK\n"
          ]
        },
        {
          "output_type": "stream",
          "name": "stderr",
          "text": [
            "INFO:     Shutting down\n",
            "INFO:     Waiting for application shutdown.\n",
            "INFO:     Application shutdown complete.\n",
            "INFO:     Finished server process [1074]\n"
          ]
        }
      ]
    }
  ]
}